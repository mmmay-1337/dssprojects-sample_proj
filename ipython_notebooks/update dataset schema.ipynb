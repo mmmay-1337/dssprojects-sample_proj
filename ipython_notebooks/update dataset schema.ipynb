{
  "metadata": {
    "kernelspec": {
      "name": "python3",
      "display_name": "Python 3",
      "language": "python"
    },
    "creator": "admin",
    "createdOn": 1654558041366,
    "tags": [],
    "customFields": {},
    "hide_input": false,
    "language_info": {
      "name": "python",
      "version": "3.7.13",
      "mimetype": "text/x-python",
      "codemirror_mode": {
        "name": "ipython",
        "version": 3
      },
      "pygments_lexer": "ipython3",
      "nbconvert_exporter": "python",
      "file_extension": ".py"
    },
    "modifiedBy": "admin"
  },
  "nbformat": 4,
  "nbformat_minor": 1,
  "cells": [
    {
      "execution_count": 1,
      "cell_type": "code",
      "metadata": {
        "scrolled": true
      },
      "source": [
        "%pylab inline"
      ],
      "outputs": [
        {
          "output_type": "stream",
          "text": "Populating the interactive namespace from numpy and matplotlib\n",
          "name": "stdout"
        }
      ]
    },
    {
      "execution_count": 2,
      "cell_type": "code",
      "metadata": {},
      "source": [
        "import dataiku\nfrom dataiku import pandasutils as pdu\nimport pandas as pd"
      ],
      "outputs": []
    },
    {
      "execution_count": 3,
      "cell_type": "code",
      "metadata": {},
      "source": [
        "# establish client \u0026 project handles\nclient \u003d dataiku.api_client()\nproject \u003d client.get_default_project()"
      ],
      "outputs": []
    },
    {
      "cell_type": "markdown",
      "metadata": {},
      "source": [
        "programmatically change the table schema"
      ]
    },
    {
      "execution_count": 17,
      "cell_type": "code",
      "metadata": {},
      "source": [
        "for dataset in project.list_datasets(as_type\u003d\u0027objects\u0027):\n    settings \u003d dataset.get_settings()\n    params \u003d settings.get_raw_params()\n    # only look at the postgresql-local connection\n    if \u0027connection\u0027 in params.keys():\n        if params[\u0027connection\u0027] \u003d\u003d \u0027postgresql\u0027:\n            print(params[\u0027table\u0027])\n            try:\n                # the default of our postgresql connection is a blank schema, so this wont always work\n                print(params[\u0027schema\u0027])\n                # this is where you change the schema e.g. \n    #             if \u0027connection\u0027 in params and params[\u0027connection\u0027] \u003d\u003d TARGET_CONNECTION:\n    #                 params[\u0027schema\u0027] \u003d NEW_SCHEMA\n    #                 settings.save()\n\n            except:\n                # implies there is no sc\n                print(\"N/A\")\n    #             print(params[\u0027schema\u0027])\n    #         except:\n    # if the schema isnt blank then you want to change this to the target connection, like the code below\n"
      ],
      "outputs": [
        {
          "output_type": "stream",
          "text": "${projectKey}_orders_by_customer_copy\n${default_schema}\n${projectKey}_orders_filtered_copy\n${default_schema}\n${projectKey}_example\n${default_schema}\n",
          "name": "stdout"
        }
      ]
    },
    {
      "cell_type": "markdown",
      "metadata": {
        "trusted": false
      },
      "source": [
        "Example of getting the contents in a code recipe...?"
      ]
    },
    {
      "execution_count": 5,
      "cell_type": "code",
      "metadata": {},
      "source": [
        "sql_recipe \u003d project.get_recipe(\"compute_example\")\nsql_recipe_settings \u003d sql_recipe.get_settings()"
      ],
      "outputs": []
    },
    {
      "execution_count": 16,
      "cell_type": "code",
      "metadata": {},
      "source": [
        "sql_recipe_settings."
      ],
      "outputs": [
        {
          "output_type": "execute_result",
          "execution_count": 16,
          "data": {
            "text/plain": "{\u0027payload\u0027: \u0027SELECT *\\n  FROM \"schema2\".\"DKU_TUTORIAL_AUTOMATION_orders_by_customer_copy\"\u0027,\n \u0027recipe\u0027: {\u0027checklists\u0027: {\u0027checklists\u0027: []},\n  \u0027creationTag\u0027: {\u0027lastModifiedBy\u0027: {\u0027login\u0027: \u0027admin\u0027},\n   \u0027lastModifiedOn\u0027: 1654576653999,\n   \u0027versionNumber\u0027: 0},\n  \u0027customFields\u0027: {},\n  \u0027customMeta\u0027: {\u0027kv\u0027: {}},\n  \u0027dkuProperties\u0027: [],\n  \u0027inputs\u0027: {\u0027main\u0027: {\u0027items\u0027: [{\u0027deps\u0027: [],\n      \u0027ref\u0027: \u0027Orders_by_customer_copy\u0027}]}},\n  \u0027labels\u0027: [],\n  \u0027maxRunningActivities\u0027: 0,\n  \u0027name\u0027: \u0027compute_example\u0027,\n  \u0027neverRecomputeExistingPartitions\u0027: False,\n  \u0027optionalDependencies\u0027: False,\n  \u0027outputs\u0027: {\u0027main\u0027: {\u0027items\u0027: [{\u0027appendMode\u0027: False, \u0027ref\u0027: \u0027example\u0027}]}},\n  \u0027params\u0027: {\u0027allowMultipleConnections\u0027: False,\n   \u0027displayExecutionPlan\u0027: True,\n   \u0027skipPrerunValidate\u0027: False,\n   \u0027sqlPipelineParams\u0027: {\u0027pipelineAllowMerge\u0027: True,\n    \u0027pipelineAllowStart\u0027: True}},\n  \u0027projectKey\u0027: \u0027DKU_TUTORIAL_AUTOMATION\u0027,\n  \u0027redispatchPartitioning\u0027: False,\n  \u0027tags\u0027: [],\n  \u0027type\u0027: \u0027sql_query\u0027,\n  \u0027variables\u0027: {},\n  \u0027versionTag\u0027: {\u0027lastModifiedBy\u0027: {\u0027login\u0027: \u0027admin\u0027},\n   \u0027lastModifiedOn\u0027: 1654576653999,\n   \u0027versionNumber\u0027: 0}}}"
          },
          "metadata": {}
        }
      ]
    },
    {
      "execution_count": 0,
      "cell_type": "code",
      "metadata": {},
      "source": [
        ""
      ],
      "outputs": []
    }
  ]
}