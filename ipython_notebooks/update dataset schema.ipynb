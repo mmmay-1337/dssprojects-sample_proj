{
  "metadata": {
    "kernelspec": {
      "name": "python3",
      "display_name": "Python 3",
      "language": "python"
    },
    "creator": "admin",
    "createdOn": 1654558041366,
    "tags": [],
    "customFields": {},
    "hide_input": false,
    "language_info": {
      "name": "python",
      "version": "3.7.13",
      "mimetype": "text/x-python",
      "codemirror_mode": {
        "name": "ipython",
        "version": 3
      },
      "pygments_lexer": "ipython3",
      "nbconvert_exporter": "python",
      "file_extension": ".py"
    },
    "modifiedBy": "admin"
  },
  "nbformat": 4,
  "nbformat_minor": 1,
  "cells": [
    {
      "execution_count": 0,
      "cell_type": "code",
      "metadata": {},
      "source": [
        "%pylab inline"
      ],
      "outputs": []
    },
    {
      "execution_count": 1,
      "cell_type": "code",
      "metadata": {},
      "source": [
        "import dataiku\nfrom dataiku import pandasutils as pdu\nimport pandas as pd"
      ],
      "outputs": []
    },
    {
      "execution_count": 2,
      "cell_type": "code",
      "metadata": {},
      "source": [
        "# establish client \u0026 project handles\nclient \u003d dataiku.api_client()\nproject \u003d client.get_default_project()"
      ],
      "outputs": []
    },
    {
      "cell_type": "markdown",
      "metadata": {},
      "source": [
        "programmatically change the table schema"
      ]
    },
    {
      "execution_count": 13,
      "cell_type": "code",
      "metadata": {},
      "source": [
        "for dataset in project.list_datasets(as_type\u003d\u0027objects\u0027):\n    settings \u003d dataset.get_settings()\n    params \u003d settings.get_raw_params()\n    # only look at the postgresql-local connection\n    if \u0027connection\u0027 in params.keys():\n        if params[\u0027connection\u0027] \u003d\u003d \u0027postgresql\u0027:\n            print(params[\u0027table\u0027])\n            try:\n                # the default of our postgresql connection is a blank schema, so this wont always work\n                print(params[\u0027schema\u0027])\n                # this is where you change the schema e.g. \n    #             if \u0027connection\u0027 in params and params[\u0027connection\u0027] \u003d\u003d TARGET_CONNECTION:\n    #                 params[\u0027schema\u0027] \u003d NEW_SCHEMA\n    #                 settings.save()\n\n            except:\n                # implies there is no sc\n                print(\"N/A\")\n    #             print(params[\u0027schema\u0027])\n    #         except:\n    # if the schema isnt blank then you want to change this to the target connection, like the code below\n"
      ],
      "outputs": [
        {
          "output_type": "stream",
          "text": "${projectKey}_orders_by_customer_copy\n${default_schema}\n${projectKey}_orders_filtered_copy\n${default_schema}\n",
          "name": "stdout"
        }
      ]
    }
  ]
}